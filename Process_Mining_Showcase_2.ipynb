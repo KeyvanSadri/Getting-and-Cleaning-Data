{
  "nbformat": 4,
  "nbformat_minor": 0,
  "metadata": {
    "colab": {
      "name": "Process_Mining_Showcase_2.ipynb",
      "version": "0.3.2",
      "provenance": [],
      "collapsed_sections": [],
      "include_colab_link": true
    },
    "kernelspec": {
      "name": "python3",
      "display_name": "Python 3"
    }
  },
  "cells": [
    {
      "cell_type": "markdown",
      "metadata": {
        "id": "view-in-github",
        "colab_type": "text"
      },
      "source": [
        "<a href=\"https://colab.research.google.com/github/KeyvanSadri/Getting-and-Cleaning-Data/blob/master/Process_Mining_Showcase_2.ipynb\" target=\"_parent\"><img src=\"https://colab.research.google.com/assets/colab-badge.svg\" alt=\"Open In Colab\"/></a>"
      ]
    },
    {
      "metadata": {
        "id": "c9k1YSlIU2yb",
        "colab_type": "code",
        "colab": {}
      },
      "cell_type": "code",
      "source": [
        "# import the libraries\n",
        "import pandas as pd\n",
        "import numpy as np\n",
        "import matplotlib.pyplot as plt\n",
        "import random\n",
        "from datetime import datetime, timedelta\n",
        "import math\n",
        "from scipy.stats import norm\n",
        "\n",
        "from google.colab import files\n",
        "\n",
        "# set seed\n",
        "np.random.seed(42)\n",
        "\n",
        "sample_size = 120000\n",
        "start=datetime.now()"
      ],
      "execution_count": 0,
      "outputs": []
    },
    {
      "metadata": {
        "id": "2c1LHS5SU_J_",
        "colab_type": "code",
        "outputId": "4f26028b-6f57-4436-cdc7-6fbf91654a75",
        "colab": {
          "base_uri": "https://localhost:8080/",
          "height": 34
        }
      },
      "cell_type": "code",
      "source": [
        "# set the unique ID\n",
        "unique_ID = np.arange(sample_size)\n",
        "unique_ID.shape"
      ],
      "execution_count": 3,
      "outputs": [
        {
          "output_type": "execute_result",
          "data": {
            "text/plain": [
              "(120000,)"
            ]
          },
          "metadata": {
            "tags": []
          },
          "execution_count": 3
        }
      ]
    },
    {
      "metadata": {
        "id": "a97ZY-I1V5H7",
        "colab_type": "code",
        "colab": {}
      },
      "cell_type": "code",
      "source": [
        "# assign Abteilung\n",
        "abt = np.random.randint(5, size=(sample_size))\n",
        "np.unique(abt,return_counts=True)\n",
        "abt_name = np.empty([sample_size],dtype='S7')\n",
        "abt_name[abt==0]='RK1_Fra'\n",
        "abt_name[abt==1]='RK2_Fra'\n",
        "abt_name[abt==2]='RK3_Fra'\n",
        "abt_name[abt==3]='RK4_Ber'\n",
        "abt_name[abt==4]='RK5_Ber'"
      ],
      "execution_count": 0,
      "outputs": []
    },
    {
      "metadata": {
        "id": "qOGWJcaUV7hX",
        "colab_type": "code",
        "colab": {}
      },
      "cell_type": "code",
      "source": [
        "# assign Filiale\n",
        "# if the abteilung is 3 or 4 the Filiale must be Berlin\n",
        "# Otherwise it can be Hamburg, Muenchen, Frankfurt, or Koeln\n",
        "fil = np.random.randint(3,size=(sample_size))\n",
        "fil_name = np.chararray(sample_size,itemsize=9,unicode=True)\n",
        "fil_name[np.logical_and(fil==0,np.logical_or(abt!=3,abt!=4))]='Hamburg'\n",
        "fil_name[np.logical_and(fil==1,np.logical_or(abt!=3,abt!=4))]='München'\n",
        "fil_name[np.logical_and(fil==2,np.logical_or(abt!=3,abt!=4))]='Frankfurt'\n",
        "fil_name[np.logical_and(fil==3,np.logical_or(abt!=3,abt!=4))]='Köln'\n",
        "fil_name[np.logical_or(abt==3,abt==4)]='Berlin'"
      ],
      "execution_count": 0,
      "outputs": []
    },
    {
      "metadata": {
        "id": "RmCK_jYXV983",
        "colab_type": "code",
        "colab": {}
      },
      "cell_type": "code",
      "source": [
        "# set the timestamp of the creation of Antrag\n",
        "# 1-6 January and 21-31 December are excluded\n",
        "# Weekends are excluded\n",
        "# Holidays are not excluded\n",
        "\n",
        "# set the month and population of the month\n",
        "month = np.arange(12)\n",
        "weights = [0.5, 0.4, 0.9, 1.2, 2.3, 0.8, 0.4, 0.6,1.1,0.55,1.8,2.2]\n",
        "credit_month = random.choices(month, weights=weights, k=sample_size)\n",
        "credit_month = np.asarray(credit_month)+1\n",
        "\n",
        "# Generate a day for the corresponding month\n",
        "\n",
        "def day_generator(month):\n",
        "  if (month in [3,5,7,8,10]):\n",
        "    day = np.random.randint(31)+1\n",
        "  elif (month in [4,6,9,11]):\n",
        "    day = np.random.randint(30)+1\n",
        "  elif (month ==2):\n",
        "    day = np.random.randint(28)+1\n",
        "  elif (month==12):\n",
        "    day = np.random.randint(21)+1\n",
        "  else:\n",
        "    day = np.random.randint(7,31)+1\n",
        "  return day\n",
        "\n",
        "my_day = np.array([day_generator(month) for month in credit_month])\n",
        "\n",
        "# Generate hour between 9 and 17\n",
        "hour = np.random.randint(8,size=(sample_size))+9\n",
        "\n",
        "#Generate minute between 0 and 60\n",
        "minute = np.random.randint(59,size=(sample_size))\n",
        "\n",
        "# column bind the year (always 2018), month, day, hour, and minute \n",
        "dt_matrix = np.concatenate([np.full((sample_size, 1), 2018),credit_month.reshape(sample_size,1),my_day.reshape(sample_size,1),hour.reshape(sample_size,1),minute.reshape(sample_size,1)],axis=1)\n",
        "\n",
        "#convert each row to a datetime object\n",
        "initial_timestamp = [datetime(*x) for x in dt_matrix]\n",
        "\n",
        "# drop the weekends from the timestamp\n",
        "def weekenddrop(dt):\n",
        "  if dt.day in [5,6]:\n",
        "    dt.replace(day=dt.day+random.randint(0,5))\n",
        "  return dt\n",
        "\n",
        "initial_timestamp = np.array([weekenddrop(dt) for dt in initial_timestamp])"
      ],
      "execution_count": 0,
      "outputs": []
    },
    {
      "metadata": {
        "id": "NyQk7-ijWFGl",
        "colab_type": "code",
        "colab": {}
      },
      "cell_type": "code",
      "source": [
        "# Generate the distribution of Wunschkredithöhe\n",
        "wkh = sample_size/3\n",
        "\n",
        "# min max scaler function\n",
        "def range_scaler(my_array):\n",
        "  my_array = (my_array - my_array.min())/(my_array.max()-my_array.min())\n",
        "  return my_array\n",
        "\n",
        "# round up to thousend\n",
        "def thoused_round(x):\n",
        "  x=math.ceil(x / 500.0) * 500.0\n",
        "  return x\n",
        "\n",
        "# Weibull (Negatively skewed)\n",
        "weibull_case = np.random.weibull(5,40000)\n",
        "weibull_case = range_scaler(weibull_case)\n",
        "\n",
        "# Gamma (Positively skewed)\n",
        "shape, scale = 3., 1. # mean and width\n",
        "gamma_case = np.random.standard_gamma(shape, 40000)\n",
        "gamma_case = range_scaler(gamma_case)\n",
        "\n",
        "# Von Mises (not skewed)\n",
        "vonmises_case = np.random.vonmises(1,5,40000)\n",
        "vonmises_case = range_scaler(vonmises_case)\n",
        "\n",
        "# row bind the distributions for Wuschkredithöhe \n",
        "wkh_vector = np.concatenate([weibull_case.reshape(40000,1),gamma_case.reshape(40000,1),vonmises_case.reshape(40000,1)],axis=0)\n",
        "wkh_vector = wkh_vector*79000 + 1000\n",
        "\n",
        "# round up the amounts to upper 1000\n",
        "wkh_vector = np.array([thoused_round(x) for x in wkh_vector])"
      ],
      "execution_count": 0,
      "outputs": []
    },
    {
      "metadata": {
        "id": "UEzr15gKWJHY",
        "colab_type": "code",
        "outputId": "e7803fe3-4b12-4f70-d257-cd67d093c61d",
        "colab": {
          "base_uri": "https://localhost:8080/",
          "height": 361
        }
      },
      "cell_type": "code",
      "source": [
        "plt.hist(wkh_vector, bins='auto')\n",
        "plt.xlabel('Wunschkredithöhe')\n",
        "plt.ylabel('Häufigkeitverteilung')\n",
        "plt.show()\n",
        "#plt.savefig('Wuschhohe_Histogram.png')\n",
        "#files.download('Wuschhohe_Histogram.png')"
      ],
      "execution_count": 8,
      "outputs": [
        {
          "output_type": "display_data",
          "data": {
            "image/png": "[encoded data removed]",
            "text/plain": [
              "<Figure size 576x396 with 1 Axes>"
            ]
          },
          "metadata": {
            "tags": []
          }
        }
      ]
    },
    {
      "metadata": {
        "id": "AzrQWRxJWQIh",
        "colab_type": "code",
        "colab": {}
      },
      "cell_type": "code",
      "source": [
        "# Randomly generate the Laufzeit and applying the constraints\n",
        "\n",
        "# Weibull (Negatively skewed)\n",
        "laufzeit = np.random.weibull(5,sample_size)\n",
        "laufzeit = range_scaler(laufzeit)\n",
        "laufzeit = laufzeit*54+6\n",
        "laufzeit = laufzeit.astype(int)"
      ],
      "execution_count": 0,
      "outputs": []
    },
    {
      "metadata": {
        "id": "6AZ67hDAWS7T",
        "colab_type": "code",
        "outputId": "a5e4c385-b230-4875-d114-86b26965807b",
        "colab": {
          "base_uri": "https://localhost:8080/",
          "height": 34
        }
      },
      "cell_type": "code",
      "source": [
        "# combine the Wunschkredithöhe and Laufzeit\n",
        "hoehe_laufzeit_rate = np.concatenate([wkh_vector.reshape(sample_size,1),laufzeit.reshape(sample_size,1)],axis=1)\n",
        "\n",
        "rate = hoehe_laufzeit_rate[:,0]*0.67/hoehe_laufzeit_rate[:,1]\n",
        "hoehe_laufzeit_rate = np.concatenate([hoehe_laufzeit_rate,rate.reshape(sample_size,1)],axis=1)\n",
        "hoehe_laufzeit_rate.shape"
      ],
      "execution_count": 10,
      "outputs": [
        {
          "output_type": "execute_result",
          "data": {
            "text/plain": [
              "(120000, 3)"
            ]
          },
          "metadata": {
            "tags": []
          },
          "execution_count": 10
        }
      ]
    },
    {
      "metadata": {
        "id": "ZZ14FvioXqw6",
        "colab_type": "code",
        "outputId": "d9f34794-ddb1-4768-b33b-aa9a014cd2ef",
        "colab": {
          "base_uri": "https://localhost:8080/",
          "height": 361
        }
      },
      "cell_type": "code",
      "source": [
        "# Plot the Rate\n",
        "plt.hist(rate, bins='auto')\n",
        "plt.xlabel('Rate')\n",
        "plt.ylabel('Häufigkeitverteilung')\n",
        "plt.show() \n",
        "#plt.savefig('Rate_Histogram.png')\n",
        "#files.download('Rate_Histogram.png')"
      ],
      "execution_count": 11,
      "outputs": [
        {
          "output_type": "display_data",
          "data": {
            "image/png": "[encoded data removed]",
            "text/plain": [
              "<Figure size 576x396 with 1 Axes>"
            ]
          },
          "metadata": {
            "tags": []
          }
        }
      ]
    },
    {
      "metadata": {
        "id": "5w4d6_SSXupq",
        "colab_type": "code",
        "colab": {}
      },
      "cell_type": "code",
      "source": [
        "d = {'kredit_id': unique_ID.reshape(sample_size),\n",
        "     'timestamp':initial_timestamp.reshape(sample_size),\n",
        "     'activity': np.full((sample_size), 'kreditantrag_erstellen'),\n",
        "     'Region':fil_name.reshape(sample_size),\n",
        "     'wunschkredithoehe':hoehe_laufzeit_rate[:,0].reshape(sample_size),\n",
        "     'rate':hoehe_laufzeit_rate[:,2].reshape(sample_size),\n",
        "     'laufzeit':hoehe_laufzeit_rate[:,1].reshape(sample_size)\n",
        "    }\n",
        "df_start = pd.DataFrame(data=d,index=np.arange(sample_size))"
      ],
      "execution_count": 0,
      "outputs": []
    },
    {
      "metadata": {
        "id": "jo5xjkCoYFzc",
        "colab_type": "code",
        "outputId": "4aac7cb3-1ba4-46e0-f6ad-5efed6678096",
        "colab": {
          "base_uri": "https://localhost:8080/",
          "height": 279
        }
      },
      "cell_type": "code",
      "source": [
        "df_start[\"tatsächliche_kredithöhe\"] = np.nan\n",
        "df_start[\"Schufascore\"] = np.nan\n",
        "df_start[\"Ratingklasse\"] = np.nan\n",
        "df_start[\"loop\"] = 0\n",
        "\n",
        "# randomly select 50% of the instances and set the mitarbeiter to 'Robo', the rest to 'otto' reprensenting a human agent\n",
        "df_start[\"mitarbeiter\"]=np.nan\n",
        "robo_index = df_start.sample(frac=0.1).index\n",
        "df_start.loc[robo_index,'mitarbeiter'] = 'robo'\n",
        "df_start.mitarbeiter[(df_start.mitarbeiter.isna())] = 'otto'\n",
        "\n",
        "df_start.head()"
      ],
      "execution_count": 13,
      "outputs": [
        {
          "output_type": "stream",
          "text": [
            "/usr/local/lib/python3.6/dist-packages/ipykernel_launcher.py:10: SettingWithCopyWarning: \n",
            "A value is trying to be set on a copy of a slice from a DataFrame\n",
            "\n",
            "See the caveats in the documentation: http://pandas.pydata.org/pandas-docs/stable/indexing.html#indexing-view-versus-copy\n",
            "  # Remove the CWD from sys.path while we load stuff.\n"
          ],
          "name": "stderr"
        },
        {
          "output_type": "execute_result",
          "data": {
            "text/html": [
              "<div>\n",
              "<style scoped>\n",
              "    .dataframe tbody tr th:only-of-type {\n",
              "        vertical-align: middle;\n",
              "    }\n",
              "\n",
              "    .dataframe tbody tr th {\n",
              "        vertical-align: top;\n",
              "    }\n",
              "\n",
              "    .dataframe thead th {\n",
              "        text-align: right;\n",
              "    }\n",
              "</style>\n",
              "<table border=\"1\" class=\"dataframe\">\n",
              "  <thead>\n",
              "    <tr style=\"text-align: right;\">\n",
              "      <th></th>\n",
              "      <th>Region</th>\n",
              "      <th>activity</th>\n",
              "      <th>kredit_id</th>\n",
              "      <th>laufzeit</th>\n",
              "      <th>rate</th>\n",
              "      <th>timestamp</th>\n",
              "      <th>wunschkredithoehe</th>\n",
              "      <th>tatsächliche_kredithöhe</th>\n",
              "      <th>Schufascore</th>\n",
              "      <th>Ratingklasse</th>\n",
              "      <th>loop</th>\n",
              "      <th>mitarbeiter</th>\n",
              "    </tr>\n",
              "  </thead>\n",
              "  <tbody>\n",
              "    <tr>\n",
              "      <th>0</th>\n",
              "      <td>Berlin</td>\n",
              "      <td>kreditantrag_erstellen</td>\n",
              "      <td>0</td>\n",
              "      <td>38.0</td>\n",
              "      <td>1057.894737</td>\n",
              "      <td>2018-08-31 13:01:00</td>\n",
              "      <td>60000.0</td>\n",
              "      <td>NaN</td>\n",
              "      <td>NaN</td>\n",
              "      <td>NaN</td>\n",
              "      <td>0</td>\n",
              "      <td>otto</td>\n",
              "    </tr>\n",
              "    <tr>\n",
              "      <th>1</th>\n",
              "      <td>Berlin</td>\n",
              "      <td>kreditantrag_erstellen</td>\n",
              "      <td>1</td>\n",
              "      <td>35.0</td>\n",
              "      <td>679.571429</td>\n",
              "      <td>2018-01-19 09:02:00</td>\n",
              "      <td>35500.0</td>\n",
              "      <td>NaN</td>\n",
              "      <td>NaN</td>\n",
              "      <td>NaN</td>\n",
              "      <td>0</td>\n",
              "      <td>otto</td>\n",
              "    </tr>\n",
              "    <tr>\n",
              "      <th>2</th>\n",
              "      <td>Frankfurt</td>\n",
              "      <td>kreditantrag_erstellen</td>\n",
              "      <td>2</td>\n",
              "      <td>40.0</td>\n",
              "      <td>778.875000</td>\n",
              "      <td>2018-04-08 14:17:00</td>\n",
              "      <td>46500.0</td>\n",
              "      <td>NaN</td>\n",
              "      <td>NaN</td>\n",
              "      <td>NaN</td>\n",
              "      <td>0</td>\n",
              "      <td>otto</td>\n",
              "    </tr>\n",
              "    <tr>\n",
              "      <th>3</th>\n",
              "      <td>Berlin</td>\n",
              "      <td>kreditantrag_erstellen</td>\n",
              "      <td>3</td>\n",
              "      <td>31.0</td>\n",
              "      <td>432.258065</td>\n",
              "      <td>2018-09-10 12:50:00</td>\n",
              "      <td>20000.0</td>\n",
              "      <td>NaN</td>\n",
              "      <td>NaN</td>\n",
              "      <td>NaN</td>\n",
              "      <td>0</td>\n",
              "      <td>otto</td>\n",
              "    </tr>\n",
              "    <tr>\n",
              "      <th>4</th>\n",
              "      <td>Berlin</td>\n",
              "      <td>kreditantrag_erstellen</td>\n",
              "      <td>4</td>\n",
              "      <td>28.0</td>\n",
              "      <td>741.785714</td>\n",
              "      <td>2018-06-12 10:30:00</td>\n",
              "      <td>31000.0</td>\n",
              "      <td>NaN</td>\n",
              "      <td>NaN</td>\n",
              "      <td>NaN</td>\n",
              "      <td>0</td>\n",
              "      <td>otto</td>\n",
              "    </tr>\n",
              "  </tbody>\n",
              "</table>\n",
              "</div>"
            ],
            "text/plain": [
              "      Region                activity  kredit_id  laufzeit         rate  \\\n",
              "0     Berlin  kreditantrag_erstellen          0      38.0  1057.894737   \n",
              "1     Berlin  kreditantrag_erstellen          1      35.0   679.571429   \n",
              "2  Frankfurt  kreditantrag_erstellen          2      40.0   778.875000   \n",
              "3     Berlin  kreditantrag_erstellen          3      31.0   432.258065   \n",
              "4     Berlin  kreditantrag_erstellen          4      28.0   741.785714   \n",
              "\n",
              "            timestamp  wunschkredithoehe  tatsächliche_kredithöhe  \\\n",
              "0 2018-08-31 13:01:00            60000.0                      NaN   \n",
              "1 2018-01-19 09:02:00            35500.0                      NaN   \n",
              "2 2018-04-08 14:17:00            46500.0                      NaN   \n",
              "3 2018-09-10 12:50:00            20000.0                      NaN   \n",
              "4 2018-06-12 10:30:00            31000.0                      NaN   \n",
              "\n",
              "   Schufascore  Ratingklasse  loop mitarbeiter  \n",
              "0          NaN           NaN     0        otto  \n",
              "1          NaN           NaN     0        otto  \n",
              "2          NaN           NaN     0        otto  \n",
              "3          NaN           NaN     0        otto  \n",
              "4          NaN           NaN     0        otto  "
            ]
          },
          "metadata": {
            "tags": []
          },
          "execution_count": 13
        }
      ]
    },
    {
      "metadata": {
        "id": "EaIqhXh4XFvY",
        "colab_type": "code",
        "colab": {}
      },
      "cell_type": "code",
      "source": [
        "# add minutes to timestamp\n",
        "def minute_editor(timestamp,minute):\n",
        "  timestamp = timestamp + timedelta(seconds=minute*60)\n",
        "  if (timestamp.hour>17):\n",
        "    timestamp = timestamp + timedelta(hours=16)\n",
        "  if (timestamp.weekday()==5):\n",
        "    timestamp = timestamp + timedelta(days=2)\n",
        "  elif (timestamp.weekday()==6):\n",
        "    timestamp = timestamp + timedelta(days=1)\n",
        "  return timestamp\n",
        "\n",
        "# add days to timestamp\n",
        "def day_editor(timestamp,day):\n",
        "  timestamp = timestamp + timedelta(days=day)\n",
        "  if (timestamp.weekday()==5):\n",
        "    timestamp = timestamp + timedelta(days=2)\n",
        "  elif (timestamp.weekday()==6):\n",
        "    timestamp = timestamp + timedelta(days=1)\n",
        "  return timestamp"
      ],
      "execution_count": 0,
      "outputs": []
    },
    {
      "metadata": {
        "id": "Sw5fRJFgYGut",
        "colab_type": "code",
        "colab": {}
      },
      "cell_type": "code",
      "source": [
        "def progress_propagator(df_in,status,time_difference,time_unit,frac,automation_portion):\n",
        "  # Throw an exception if the input vectors have different number of values\n",
        "  if(len(status)!=len(time_difference) or len(status)!=len(time_difference) or len(status)!=len(time_unit) or len(status)!=len(frac) or len(status)!=len(automation_portion)):\n",
        "    raise ValueError(\"Lengths of Status, Time Difference, Fraction, and Automation Portion are not equal.\")\n",
        "    \n",
        "  # normalize the fraction and get the number of rows for the output dataframes for each status\n",
        "  frac = frac/np.sum(frac)\n",
        "  frac_count = df_in.shape[0]*frac\n",
        "  frac_count = frac_count.astype(int)\n",
        "  if (np.sum(frac_count)>df_in.shape[0]):\n",
        "    frac_count[len(frac_count)] = frac_count[len(frac_count)]-np.sum(frac_count)+df_in.shape[0]\n",
        "  \n",
        "  df_res = df_in.copy()\n",
        "  df_out = pd.DataFrame(columns=df_in.columns)\n",
        "  for i in range(0,len(status)):\n",
        "    df_update = df_res.sample(n=frac_count[i])\n",
        "    df_res = df_res.drop(df_update.index)\n",
        "    df_update = df_update.reset_index(drop=True)\n",
        "    df_res = df_res.reset_index(drop=True)\n",
        "    \n",
        "    # update the timestamp of the df_update\n",
        "    if(time_unit[i]=='mins'):\n",
        "      df_update['timestamp'] = df_update['timestamp'].apply(minute_editor,minute=time_difference[i])\n",
        "    elif(time_unit[i]=='days'):\n",
        "      df_update['timestamp'] = df_update['timestamp'].apply(day_editor,day=time_difference[i])\n",
        "    else:\n",
        "      raise ValueError(\"Unit of time can be mins or days\")\n",
        "      \n",
        "    # update the status of the df_update\n",
        "    df_update['activity'] = status[i]\n",
        "    \n",
        "    # set the mitarbeiter of df_update\n",
        "    df_update['mitarbeiter'] = np.nan\n",
        "    robo_index = df_update.sample(frac=automation_portion[i]).index\n",
        "    df_update.loc[robo_index,'mitarbeiter'] = 'robo'\n",
        "    df_update.mitarbeiter[(df_update.mitarbeiter.isna())] = 'otto'\n",
        "    df_out = df_out.append(df_update)\n",
        "  df_out=df_out.reset_index(drop=True)\n",
        "  return(df_out)"
      ],
      "execution_count": 0,
      "outputs": []
    },
    {
      "metadata": {
        "id": "GZm0_r0SibDb",
        "colab_type": "code",
        "outputId": "eb295fb9-11b6-4af3-880a-6539c32a36b5",
        "colab": {
          "base_uri": "https://localhost:8080/",
          "height": 756
        }
      },
      "cell_type": "code",
      "source": [
        "# Generate the next step from Kreditantrag_erstellen_und_einreichen\n",
        "status = ['Kreditanträge_verteilen','Unterlagen_auf_Vollständigkeit_Prüfen']\n",
        "td = [3,2]\n",
        "td_unit = ['days','days']\n",
        "frac = [0.1,0.9]\n",
        "automation_portion = [0.4,0.5]\n",
        "df_erstellen = progress_propagator(df_start,status=status,time_difference=td,time_unit=td_unit,frac=frac,automation_portion=automation_portion)\n",
        "df_erstellen = df_start.append(df_erstellen)\n",
        "print(df_erstellen.head())\n",
        "print(df_erstellen.tail())"
      ],
      "execution_count": 16,
      "outputs": [
        {
          "output_type": "stream",
          "text": [
            "/usr/local/lib/python3.6/dist-packages/ipykernel_launcher.py:36: SettingWithCopyWarning: \n",
            "A value is trying to be set on a copy of a slice from a DataFrame\n",
            "\n",
            "See the caveats in the documentation: http://pandas.pydata.org/pandas-docs/stable/indexing.html#indexing-view-versus-copy\n"
          ],
          "name": "stderr"
        },
        {
          "output_type": "stream",
          "text": [
            "      Region                activity kredit_id  laufzeit         rate  \\\n",
            "0     Berlin  kreditantrag_erstellen         0      38.0  1057.894737   \n",
            "1     Berlin  kreditantrag_erstellen         1      35.0   679.571429   \n",
            "2  Frankfurt  kreditantrag_erstellen         2      40.0   778.875000   \n",
            "3     Berlin  kreditantrag_erstellen         3      31.0   432.258065   \n",
            "4     Berlin  kreditantrag_erstellen         4      28.0   741.785714   \n",
            "\n",
            "            timestamp  wunschkredithoehe  tatsächliche_kredithöhe  \\\n",
            "0 2018-08-31 13:01:00            60000.0                      NaN   \n",
            "1 2018-01-19 09:02:00            35500.0                      NaN   \n",
            "2 2018-04-08 14:17:00            46500.0                      NaN   \n",
            "3 2018-09-10 12:50:00            20000.0                      NaN   \n",
            "4 2018-06-12 10:30:00            31000.0                      NaN   \n",
            "\n",
            "   Schufascore  Ratingklasse loop mitarbeiter  \n",
            "0          NaN           NaN    0        otto  \n",
            "1          NaN           NaN    0        otto  \n",
            "2          NaN           NaN    0        otto  \n",
            "3          NaN           NaN    0        otto  \n",
            "4          NaN           NaN    0        otto  \n",
            "           Region                               activity kredit_id  laufzeit  \\\n",
            "119995    München  Unterlagen_auf_Vollständigkeit_Prüfen     91751      45.0   \n",
            "119996  Frankfurt  Unterlagen_auf_Vollständigkeit_Prüfen      1031      28.0   \n",
            "119997    Hamburg  Unterlagen_auf_Vollständigkeit_Prüfen     98783      33.0   \n",
            "119998  Frankfurt  Unterlagen_auf_Vollständigkeit_Prüfen     79846      32.0   \n",
            "119999  Frankfurt  Unterlagen_auf_Vollständigkeit_Prüfen     22907      32.0   \n",
            "\n",
            "               rate           timestamp  wunschkredithoehe  \\\n",
            "119995   781.666667 2018-09-03 14:26:00            52500.0   \n",
            "119996  1268.214286 2018-01-15 09:30:00            53000.0   \n",
            "119997  1025.303030 2018-12-11 09:31:00            50500.0   \n",
            "119998   314.062500 2018-01-18 15:15:00            15000.0   \n",
            "119999   785.156250 2018-12-24 10:23:00            37500.0   \n",
            "\n",
            "        tatsächliche_kredithöhe  Schufascore  Ratingklasse loop mitarbeiter  \n",
            "119995                      NaN          NaN           NaN    0        robo  \n",
            "119996                      NaN          NaN           NaN    0        robo  \n",
            "119997                      NaN          NaN           NaN    0        otto  \n",
            "119998                      NaN          NaN           NaN    0        otto  \n",
            "119999                      NaN          NaN           NaN    0        robo  \n"
          ],
          "name": "stdout"
        }
      ]
    },
    {
      "metadata": {
        "id": "xR3ezfVBxbbR",
        "colab_type": "code",
        "outputId": "86ede0c7-0ede-42fe-e3af-70762c57dc12",
        "colab": {
          "base_uri": "https://localhost:8080/",
          "height": 84
        }
      },
      "cell_type": "code",
      "source": [
        "# from Kreditanträge verteilen to Unterlagen auf Vollständigkeit Prüfen\n",
        "df_kreditantraege_verteilen = df_erstellen[(df_erstellen['activity']=='Kreditanträge_verteilen')]\n",
        "status = ['Unterlagen_auf_Vollständigkeit_Prüfen']\n",
        "td = [2]\n",
        "td_unit = ['days']\n",
        "frac = [1.0]\n",
        "automation_portion = [0.5]\n",
        "df_erstellen_2 = progress_propagator(df_kreditantraege_verteilen,status=status,time_difference=td,time_unit=td_unit,frac=frac,automation_portion=automation_portion)\n",
        "df_erstellen_2 = df_erstellen.append(df_erstellen_2)"
      ],
      "execution_count": 17,
      "outputs": [
        {
          "output_type": "stream",
          "text": [
            "/usr/local/lib/python3.6/dist-packages/ipykernel_launcher.py:36: SettingWithCopyWarning: \n",
            "A value is trying to be set on a copy of a slice from a DataFrame\n",
            "\n",
            "See the caveats in the documentation: http://pandas.pydata.org/pandas-docs/stable/indexing.html#indexing-view-versus-copy\n"
          ],
          "name": "stderr"
        }
      ]
    },
    {
      "metadata": {
        "id": "zJ-0zZ_G1hJm",
        "colab_type": "code",
        "outputId": "742e5659-491f-4f47-fefd-1f4675aefe1d",
        "colab": {
          "base_uri": "https://localhost:8080/",
          "height": 168
        }
      },
      "cell_type": "code",
      "source": [
        "# from Unterlagen auf Vollständigkeit Prüfen to Kreditantrag prüfen\n",
        "df_unterlagen_auf_vollstaendigkeit_pruefen = df_erstellen_2[(df_erstellen_2['activity']=='Unterlagen_auf_Vollständigkeit_Prüfen') & (df_erstellen_2['loop']==0)]\n",
        "status = ['Kreditantrag_prüfen','Unterlagen_nachfordern']\n",
        "td = [2,5]\n",
        "td_unit = ['mins','mins']\n",
        "frac=[0.9,0.1]\n",
        "automation_portion = [0.0,0.0]\n",
        "df_unterlagen_auf_vollstaendigkeit_pruefen = progress_propagator(df_unterlagen_auf_vollstaendigkeit_pruefen,status=status,time_difference=td,time_unit=td_unit,frac=frac,automation_portion=automation_portion)\n",
        "df_unterlagen_auf_vollstaendigkeit_pruefen.loop.loc[(df_unterlagen_auf_vollstaendigkeit_pruefen['activity']=='Unterlagen_nachfordern')] = 1\n",
        "df_unterlagen_auf_vollstaendigkeit_pruefen = df_erstellen_2.append(df_unterlagen_auf_vollstaendigkeit_pruefen)\n",
        "df_unterlagen_auf_vollstaendigkeit_pruefen = df_unterlagen_auf_vollstaendigkeit_pruefen.reset_index(drop=True)"
      ],
      "execution_count": 18,
      "outputs": [
        {
          "output_type": "stream",
          "text": [
            "/usr/local/lib/python3.6/dist-packages/ipykernel_launcher.py:36: SettingWithCopyWarning: \n",
            "A value is trying to be set on a copy of a slice from a DataFrame\n",
            "\n",
            "See the caveats in the documentation: http://pandas.pydata.org/pandas-docs/stable/indexing.html#indexing-view-versus-copy\n",
            "/usr/local/lib/python3.6/dist-packages/pandas/core/indexing.py:194: SettingWithCopyWarning: \n",
            "A value is trying to be set on a copy of a slice from a DataFrame\n",
            "\n",
            "See the caveats in the documentation: http://pandas.pydata.org/pandas-docs/stable/indexing.html#indexing-view-versus-copy\n",
            "  self._setitem_with_indexer(indexer, value)\n"
          ],
          "name": "stderr"
        }
      ]
    },
    {
      "metadata": {
        "id": "vS8y81RPBwig",
        "colab_type": "code",
        "outputId": "2ad1a3ea-82c6-4768-ffa7-bee6ef0dddd9",
        "colab": {
          "base_uri": "https://localhost:8080/",
          "height": 84
        }
      },
      "cell_type": "code",
      "source": [
        "# from Unterlagen nachfordern to Unterlagen auf Vollständigkeit Prüfen\n",
        "df_unterlagen_nachfordern = df_unterlagen_auf_vollstaendigkeit_pruefen[(df_unterlagen_auf_vollstaendigkeit_pruefen['activity']=='Unterlagen_nachfordern') & (df_unterlagen_auf_vollstaendigkeit_pruefen['loop']==1)]\n",
        "status = ['Unterlagen_auf_Vollständigkeit_Prüfen']\n",
        "td = [2]\n",
        "td_unit = ['days']\n",
        "frac=[1.0]\n",
        "automation_portion=[1.0]\n",
        "df_unterlagen_nachfordern = progress_propagator(df_unterlagen_nachfordern,status=status,time_difference=td,time_unit=td_unit,frac=frac,automation_portion=automation_portion)\n",
        "df_unterlagen_auf_vollstaendigkeit_pruefen = df_unterlagen_auf_vollstaendigkeit_pruefen.append(df_unterlagen_nachfordern)\n",
        "df_unterlagen_auf_vollstaendigkeit_pruefen = df_unterlagen_auf_vollstaendigkeit_pruefen.reset_index(drop=True)\n",
        "\n",
        "# from Unterlagen auf Vollständigkeit Prüfen to Kreditantrag Prüfen\n",
        "status = ['Kreditantrag_prüfen']\n",
        "td = [2]\n",
        "td_unit = ['mins']\n",
        "frac=[1.0]\n",
        "automation_portion=[1.0]\n",
        "df_unterlagen_nachfordern = progress_propagator(df_unterlagen_nachfordern,status=status,time_difference=td,time_unit=td_unit,frac=frac,automation_portion=automation_portion)\n",
        "df_unterlagen_nachfordern['loop']=0\n",
        "df_unterlagen_nachfordern.head()\n",
        "df_unterlagen_auf_vollstaendigkeit_pruefen = df_unterlagen_auf_vollstaendigkeit_pruefen.append(df_unterlagen_nachfordern)\n",
        "df_unterlagen_auf_vollstaendigkeit_pruefen = df_unterlagen_auf_vollstaendigkeit_pruefen.reset_index(drop=True)"
      ],
      "execution_count": 19,
      "outputs": [
        {
          "output_type": "stream",
          "text": [
            "/usr/local/lib/python3.6/dist-packages/ipykernel_launcher.py:36: SettingWithCopyWarning: \n",
            "A value is trying to be set on a copy of a slice from a DataFrame\n",
            "\n",
            "See the caveats in the documentation: http://pandas.pydata.org/pandas-docs/stable/indexing.html#indexing-view-versus-copy\n"
          ],
          "name": "stderr"
        }
      ]
    },
    {
      "metadata": {
        "id": "-cUkE4V2RTuE",
        "colab_type": "code",
        "outputId": "a5138bd5-7ccc-46a4-d6b4-95b9a7ff3402",
        "colab": {
          "base_uri": "https://localhost:8080/",
          "height": 84
        }
      },
      "cell_type": "code",
      "source": [
        "# from Kreditantrag_prüfen to Angaben_korrigieren and Bonitätsprüfung_durchführen\n",
        "df_bonitaetpruefung = df_unterlagen_auf_vollstaendigkeit_pruefen[(df_unterlagen_auf_vollstaendigkeit_pruefen['activity']=='Kreditantrag_prüfen')]\n",
        "status = ['Angaben_korrigieren','Bonitätsprüfung_durchführen']\n",
        "td = [10,2]\n",
        "td_unit = ['mins','mins']\n",
        "frac=[0.1,0.9]\n",
        "automation_portion=[0.0,0.5]\n",
        "df_bonitaetpruefung = progress_propagator(df_bonitaetpruefung,status=status,time_difference=td,time_unit=td_unit,frac=frac,automation_portion=automation_portion)\n",
        "df_bonitaetpruefung = df_bonitaetpruefung.reset_index(drop=True)\n",
        "df_bonitaetpruefung = df_unterlagen_auf_vollstaendigkeit_pruefen.append(df_bonitaetpruefung)\n",
        "df_bonitaetpruefung = df_bonitaetpruefung.reset_index(drop=True)\n",
        "#from Angaben_korrigieren to Bonitätsprüfung durchführen\n",
        "df_angaben_korrigieren = df_bonitaetpruefung[(df_bonitaetpruefung['activity']=='Angaben_korrigieren')]\n",
        "status = ['Bonitätsprüfung_durchführen']\n",
        "td = [10]\n",
        "td_unit = ['mins']\n",
        "frac=[1.0]\n",
        "automation_portion=[0.5]\n",
        "df_angaben_korrigieren = progress_propagator(df_angaben_korrigieren,status=status,time_difference=td,time_unit=td_unit,frac=frac,automation_portion=automation_portion)\n",
        "df_bonitaetpruefung = df_bonitaetpruefung.append(df_angaben_korrigieren)\n",
        "df_bonitaetpruefung = df_bonitaetpruefung.reset_index(drop=True)"
      ],
      "execution_count": 20,
      "outputs": [
        {
          "output_type": "stream",
          "text": [
            "/usr/local/lib/python3.6/dist-packages/ipykernel_launcher.py:36: SettingWithCopyWarning: \n",
            "A value is trying to be set on a copy of a slice from a DataFrame\n",
            "\n",
            "See the caveats in the documentation: http://pandas.pydata.org/pandas-docs/stable/indexing.html#indexing-view-versus-copy\n"
          ],
          "name": "stderr"
        }
      ]
    },
    {
      "metadata": {
        "id": "X8Jt5y25PKap",
        "colab_type": "code",
        "outputId": "59dd1920-bdf3-4f08-a9fa-7082efb49ff3",
        "colab": {
          "base_uri": "https://localhost:8080/",
          "height": 168
        }
      },
      "cell_type": "code",
      "source": [
        "# from Bonitätsprüfung_durchführen to Unterlagen_nachfordern_2, Zweiten_Kreditnehmer_aufnehmen, Angaben_korrigieren_2, and Schufa_abfragen\n",
        "# Filter the df_bonitaetpruefung dataframe to get the rows with activity == 'Bonitätsprüfung_durchführen' and generate the dataframes of the next steps\n",
        "df_bonitaetpruefung_2 = df_bonitaetpruefung[(df_bonitaetpruefung['activity']=='Bonitätsprüfung_durchführen')]\n",
        "status = ['Unterlagen_nachfordern_2','zweiten_Kreditnehmer_aufnehmen','Angaben_korrigieren_2','Schufa_abfragen']\n",
        "td = [5,10,2,3]\n",
        "td_unit = ['mins','mins','days','mins']\n",
        "frac = [0.2,0.05,0.15,0.6]\n",
        "automation_portion = [0.2,0.4,0.1,0.5]\n",
        "df_bonitaetpruefung_2 = progress_propagator(df_bonitaetpruefung_2,status=status,time_difference=td,time_unit=td_unit,frac=frac,automation_portion=automation_portion)\n",
        "df_bonitaetpruefung_2 = df_bonitaetpruefung_2.reset_index(drop=True)\n",
        "df_bonitaetpruefung_2.loop.loc[(df_bonitaetpruefung_2['activity']=='Unterlagen_nachfordern_2')] = 10\n",
        "df_bonitaetpruefung_2.loop.loc[(df_bonitaetpruefung_2['activity']=='zweiten_Kreditnehmer_aufnehmen')] = 100"
      ],
      "execution_count": 21,
      "outputs": [
        {
          "output_type": "stream",
          "text": [
            "/usr/local/lib/python3.6/dist-packages/ipykernel_launcher.py:36: SettingWithCopyWarning: \n",
            "A value is trying to be set on a copy of a slice from a DataFrame\n",
            "\n",
            "See the caveats in the documentation: http://pandas.pydata.org/pandas-docs/stable/indexing.html#indexing-view-versus-copy\n",
            "/usr/local/lib/python3.6/dist-packages/pandas/core/indexing.py:194: SettingWithCopyWarning: \n",
            "A value is trying to be set on a copy of a slice from a DataFrame\n",
            "\n",
            "See the caveats in the documentation: http://pandas.pydata.org/pandas-docs/stable/indexing.html#indexing-view-versus-copy\n",
            "  self._setitem_with_indexer(indexer, value)\n"
          ],
          "name": "stderr"
        }
      ]
    },
    {
      "metadata": {
        "id": "s32mMBspc1s5",
        "colab_type": "code",
        "outputId": "24f9ddc1-73cf-40fa-960d-c41d9a21570b",
        "colab": {
          "base_uri": "https://localhost:8080/",
          "height": 84
        }
      },
      "cell_type": "code",
      "source": [
        "# from Angaben_korrigieren_2 to the Schufa_abfragen\n",
        "df_bonitaetpruefung_3 = df_bonitaetpruefung_2[(df_bonitaetpruefung_2['activity']=='Angaben_korrigieren_2')]\n",
        "status = ['Schufa_abfragen']\n",
        "td = [3]\n",
        "td_unit = ['days']\n",
        "frac = [1.0]\n",
        "automation_portion = [0.0]\n",
        "df_bonitaetpruefung_3 = progress_propagator(df_bonitaetpruefung_3,status=status,time_difference=td,time_unit=td_unit,frac=frac,automation_portion=automation_portion)\n",
        "df_bonitaetpruefung_3 = df_bonitaetpruefung_3.reset_index(drop=True)"
      ],
      "execution_count": 22,
      "outputs": [
        {
          "output_type": "stream",
          "text": [
            "/usr/local/lib/python3.6/dist-packages/ipykernel_launcher.py:36: SettingWithCopyWarning: \n",
            "A value is trying to be set on a copy of a slice from a DataFrame\n",
            "\n",
            "See the caveats in the documentation: http://pandas.pydata.org/pandas-docs/stable/indexing.html#indexing-view-versus-copy\n"
          ],
          "name": "stderr"
        }
      ]
    },
    {
      "metadata": {
        "id": "BpQ6zfSsDQEY",
        "colab_type": "code",
        "outputId": "3bb785c6-c7e0-4e65-a88a-a1657bac547a",
        "colab": {
          "base_uri": "https://localhost:8080/",
          "height": 84
        }
      },
      "cell_type": "code",
      "source": [
        "# from zweiten_Kreditnehmer_aufnehmen to kreditantrag_erstellen\n",
        "df_zknan = df_bonitaetpruefung_2[(df_bonitaetpruefung_2['activity']=='zweiten_Kreditnehmer_aufnehmen') & (df_bonitaetpruefung_2['loop']<500)]\n",
        "status = ['kreditantrag_erstellen']\n",
        "td = [2]\n",
        "td_unit = ['days']\n",
        "frac = [1.0]\n",
        "automation_portion = [0.0]\n",
        "df_zknan = progress_propagator(df_zknan,status=status,time_difference=td,time_unit=td_unit,frac=frac,automation_portion=automation_portion)\n",
        "df_zknan = df_zknan.reset_index(drop=True)\n",
        "\n",
        "# from Kreditantrag ertellen und einreichen to Kreditanträge verteilen and Unterlagen auf Vollständigkeit Prüfen\n",
        "status = ['Kreditanträge_verteilen','Unterlagen_auf_Vollständigkeit_Prüfen']\n",
        "td = [3,2]\n",
        "td_unit = ['days','days']\n",
        "frac = [0.1,0.9]\n",
        "automation_portion = [0.4,0.5]\n",
        "df_zknan_kvuavp = progress_propagator(df_zknan,status=status,time_difference=td,time_unit=td_unit,frac=frac,automation_portion=automation_portion)\n",
        "df_zknan_kvuavp = df_zknan_kvuavp.reset_index(drop=True)\n",
        "\n",
        "# from Kreditanträge_verteilen to Unterlagen auf Vollständigkeit Prüfen\n",
        "df_kvuavp = df_zknan_kvuavp[(df_zknan_kvuavp['activity']=='Kreditanträge_verteilen')]\n",
        "status = ['Unterlagen_auf_Vollständigkeit_Prüfen']\n",
        "td = [3]\n",
        "td_unit = ['days']\n",
        "frac = [1.0]\n",
        "automation_portion = [0.0]\n",
        "df_kvuavp = progress_propagator(df_kvuavp,status=status,time_difference=td,time_unit=td_unit,frac=frac,automation_portion=automation_portion)\n",
        "df_kvuavp = df_kvuavp.reset_index(drop=True)\n",
        "\n",
        "df_kvuavp = df_kvuavp.append([df_zknan,df_zknan_kvuavp])\n",
        "df_kvuavp = df_kvuavp.reset_index(drop=True)"
      ],
      "execution_count": 23,
      "outputs": [
        {
          "output_type": "stream",
          "text": [
            "/usr/local/lib/python3.6/dist-packages/ipykernel_launcher.py:36: SettingWithCopyWarning: \n",
            "A value is trying to be set on a copy of a slice from a DataFrame\n",
            "\n",
            "See the caveats in the documentation: http://pandas.pydata.org/pandas-docs/stable/indexing.html#indexing-view-versus-copy\n"
          ],
          "name": "stderr"
        }
      ]
    },
    {
      "metadata": {
        "id": "oUW5u9N6iVxK",
        "colab_type": "code",
        "outputId": "2eb29af0-d9fc-4edb-9393-6228d1219dda",
        "colab": {
          "base_uri": "https://localhost:8080/",
          "height": 168
        }
      },
      "cell_type": "code",
      "source": [
        "# from Unterlagen_nachfordern_2 to Unterlagen_auf_Vollständigkeit_Prüfen\n",
        "df_uavp = df_bonitaetpruefung_2[(df_bonitaetpruefung_2['activity']=='Unterlagen_nachfordern_2')]\n",
        "status = ['Unterlagen_auf_Vollständigkeit_Prüfen']\n",
        "td = [3]\n",
        "td_unit = ['days']\n",
        "frac = [1.0]\n",
        "automation_portion = [0.0]\n",
        "df_uavp = progress_propagator(df_uavp,status=status,time_difference=td,time_unit=td_unit,frac=frac,automation_portion=automation_portion)\n",
        "df_uavp = df_uavp.reset_index(drop=True)\n",
        "\n",
        "df_uavp = df_uavp.append(df_kvuavp)\n",
        "df_uavp = df_uavp.reset_index(drop=True)\n",
        "\n",
        "# from Unterlagen auf Vollständigkeit Prüfen to Unterlagen nachfordern and Kreditantrag Prüfen\n",
        "df_un_kp_1 = df_uavp[(df_uavp['activity']=='Unterlagen_auf_Vollständigkeit_Prüfen')]\n",
        "status = ['Kreditantrag_prüfen','Unterlagen_nachfordern']\n",
        "td = [2,5]\n",
        "td_unit = ['mins','mins']\n",
        "frac=[0.9,0.1]\n",
        "automation_portion = [0.0,0.0]\n",
        "df_un_kp_1 = progress_propagator(df_un_kp_1,status=status,time_difference=td,time_unit=td_unit,frac=frac,automation_portion=automation_portion)\n",
        "df_un_kp_1 = df_un_kp_1.reset_index(drop=True)\n",
        "df_un_kp_1.loop.loc[(df_un_kp_1['activity']=='Unterlagen_nachfordern')] = df_un_kp_1.loop.loc[(df_un_kp_1['activity']=='Unterlagen_nachfordern')] + 1\n",
        "\n",
        "\n",
        "# from Unterlagen nachfordern to Unterlagen auf Vollständigkeit Prüfen\n",
        "df_un = df_un_kp_1[(df_un_kp_1['activity']=='Unterlagen_nachfordern')]\n",
        "status = ['Unterlagen_auf_Vollständigkeit_Prüfen']\n",
        "td = [3]\n",
        "td_unit = ['days']\n",
        "frac = [1.0]\n",
        "automation_portion = [0.0]\n",
        "df_un = progress_propagator(df_un,status=status,time_difference=td,time_unit=td_unit,frac=frac,automation_portion=automation_portion)\n",
        "df_un = df_un.reset_index(drop=True)\n",
        "\n",
        "# from Unterlagen_auf_Vollständigkeit_Prüfen to Kreditantrag Prüfen\n",
        "status = ['Kreditantrag_prüfen']\n",
        "td = [6]\n",
        "td_unit = ['mins']\n",
        "frac = [1.0]\n",
        "automation_portion = [0.0]\n",
        "df_un = progress_propagator(df_un,status=status,time_difference=td,time_unit=td_unit,frac=frac,automation_portion=automation_portion)\n",
        "df_un = df_un.reset_index(drop=True)\n",
        "df_uavp_2 = df_uavp.append([df_un_kp_1,df_un])\n",
        "df_uavp_2 = df_uavp_2.reset_index(drop=True)\n",
        "\n",
        "# from Kreditantrag Prüfen to Angaben korrigieren and Bonitätsprüfung durchführen\n",
        "df_kap = df_uavp_2[(df_uavp_2['activity']=='Kreditantrag_prüfen')]\n",
        "status = ['Angaben_korrigieren','Bonitätsprüfung_durchführen']\n",
        "td = [10,2]\n",
        "td_unit = ['mins','mins']\n",
        "frac=[0.1,0.9]\n",
        "automation_portion=[0.0,0.5]\n",
        "df_kap = progress_propagator(df_kap,status=status,time_difference=td,time_unit=td_unit,frac=frac,automation_portion=automation_portion)\n",
        "df_kap = df_kap.reset_index(drop=True)\n",
        "\n",
        "# from Angaben korrigieren to Bonitätsprüfung durchführen\n",
        "df_ak = df_kap[(df_kap['activity']=='Angaben_korrigieren')]\n",
        "status = ['Bonitätsprüfung_durchführen']\n",
        "td = [2]\n",
        "td_unit = ['mins']\n",
        "frac=[1.0]\n",
        "automation_portion=[0.5]\n",
        "df_ak = progress_propagator(df_ak,status=status,time_difference=td,time_unit=td_unit,frac=frac,automation_portion=automation_portion)\n",
        "df_ak = df_ak.reset_index(drop=True)\n",
        "\n",
        "# from Angaben korrigieren to Bonitätsprüfung durchführen\n",
        "df_bpd_sa = df_ak.copy()\n",
        "status = ['Schufa_abfragen']\n",
        "td = [15]\n",
        "td_unit = ['mins']\n",
        "frac=[1.0]\n",
        "automation_portion=[0.5]\n",
        "df_bpd_sa = progress_propagator(df_bpd_sa,status=status,time_difference=td,time_unit=td_unit,frac=frac,automation_portion=automation_portion)\n",
        "df_bpd_sa = df_bpd_sa.reset_index(drop=True)\n",
        "\n",
        "df_uavp_2 = df_uavp.append([df_kap,df_ak,df_bpd_sa])\n",
        "df_uavp_2 = df_uavp_2.reset_index(drop=True)"
      ],
      "execution_count": 24,
      "outputs": [
        {
          "output_type": "stream",
          "text": [
            "/usr/local/lib/python3.6/dist-packages/ipykernel_launcher.py:36: SettingWithCopyWarning: \n",
            "A value is trying to be set on a copy of a slice from a DataFrame\n",
            "\n",
            "See the caveats in the documentation: http://pandas.pydata.org/pandas-docs/stable/indexing.html#indexing-view-versus-copy\n",
            "/usr/local/lib/python3.6/dist-packages/pandas/core/indexing.py:194: SettingWithCopyWarning: \n",
            "A value is trying to be set on a copy of a slice from a DataFrame\n",
            "\n",
            "See the caveats in the documentation: http://pandas.pydata.org/pandas-docs/stable/indexing.html#indexing-view-versus-copy\n",
            "  self._setitem_with_indexer(indexer, value)\n"
          ],
          "name": "stderr"
        }
      ]
    },
    {
      "metadata": {
        "id": "OkbcEI14JoTb",
        "colab_type": "code",
        "colab": {}
      },
      "cell_type": "code",
      "source": [
        "# join all the previous datasets\n",
        "df_bonitaetpruefung = df_bonitaetpruefung.append([df_bonitaetpruefung_2,df_bonitaetpruefung_3,df_uavp_2])\n",
        "df_bonitaetpruefung = df_bonitaetpruefung.reset_index(drop=True)"
      ],
      "execution_count": 0,
      "outputs": []
    },
    {
      "metadata": {
        "id": "BtGsQQ1TmPPX",
        "colab_type": "code",
        "outputId": "d5f1b170-22b4-495a-f662-83f75e21cefb",
        "colab": {
          "base_uri": "https://localhost:8080/",
          "height": 84
        }
      },
      "cell_type": "code",
      "source": [
        "# from Schufa abfragen to scoring dürchführen\n",
        "df_schufa_abfragen = df_bonitaetpruefung[(df_bonitaetpruefung['activity']=='Schufa_abfragen')]\n",
        "status = ['Scoring_durchführen']\n",
        "td = [15]\n",
        "td_unit = ['mins']\n",
        "frac=[1.0]\n",
        "automation_portion=[0.5]\n",
        "df_schufa_abfragen = progress_propagator(df_schufa_abfragen,status=status,time_difference=td,time_unit=td_unit,frac=frac,automation_portion=automation_portion)\n",
        "df_schufa_abfragen = df_schufa_abfragen.reset_index(drop=True)\n",
        "\n",
        "df_schufa_abfragen = df_bonitaetpruefung.append(df_schufa_abfragen)\n",
        "df_schufa_abfragen = df_schufa_abfragen.reset_index(drop=True)"
      ],
      "execution_count": 26,
      "outputs": [
        {
          "output_type": "stream",
          "text": [
            "/usr/local/lib/python3.6/dist-packages/ipykernel_launcher.py:36: SettingWithCopyWarning: \n",
            "A value is trying to be set on a copy of a slice from a DataFrame\n",
            "\n",
            "See the caveats in the documentation: http://pandas.pydata.org/pandas-docs/stable/indexing.html#indexing-view-versus-copy\n"
          ],
          "name": "stderr"
        }
      ]
    },
    {
      "metadata": {
        "id": "BdZBK_f3sWcv",
        "colab_type": "code",
        "outputId": "edd62a90-fd24-47fc-bea0-715a95ab5664",
        "colab": {
          "base_uri": "https://localhost:8080/",
          "height": 84
        }
      },
      "cell_type": "code",
      "source": [
        "# from scoring dürchführen to Genehmigung durchführen and Ablehnung durchführen\n",
        "df_scoring_durchfuehren = df_schufa_abfragen[(df_schufa_abfragen['activity']=='Scoring_durchführen')]\n",
        "status = ['Genehmigung_durchführen','Ablehnung_durchführen']\n",
        "td = [20,25]\n",
        "td_unit = ['mins','mins']\n",
        "frac=[0.9,0.1]\n",
        "automation_portion=[0.2,0.3]\n",
        "df_scoring_durchfuehren = progress_propagator(df_scoring_durchfuehren,status=status,time_difference=td,time_unit=td_unit,frac=frac,automation_portion=automation_portion)\n",
        "df_scoring_durchfuehren = df_scoring_durchfuehren.reset_index(drop=True)\n",
        "\n",
        "df_scoring_durchfuehren = df_schufa_abfragen.append(df_scoring_durchfuehren)\n",
        "df_scoring_durchfuehren = df_scoring_durchfuehren.reset_index(drop=True)"
      ],
      "execution_count": 27,
      "outputs": [
        {
          "output_type": "stream",
          "text": [
            "/usr/local/lib/python3.6/dist-packages/ipykernel_launcher.py:36: SettingWithCopyWarning: \n",
            "A value is trying to be set on a copy of a slice from a DataFrame\n",
            "\n",
            "See the caveats in the documentation: http://pandas.pydata.org/pandas-docs/stable/indexing.html#indexing-view-versus-copy\n"
          ],
          "name": "stderr"
        }
      ]
    },
    {
      "metadata": {
        "id": "C3mZe04MwlPM",
        "colab_type": "code",
        "outputId": "8765a46b-daf8-4aaa-d756-a62f8920c560",
        "colab": {
          "base_uri": "https://localhost:8080/",
          "height": 84
        }
      },
      "cell_type": "code",
      "source": [
        "# from Ablehnung durchführen to Protokollierung_2\n",
        "df_ablehnung_durchfuehren = df_scoring_durchfuehren[(df_scoring_durchfuehren['activity']=='Ablehnung_durchführen')]\n",
        "status = ['Protokollierung_2']\n",
        "td = [22]\n",
        "td_unit = ['mins']\n",
        "frac=[1.0]\n",
        "automation_portion=[0.3]\n",
        "df_ablehnung_durchfuehren = progress_propagator(df_ablehnung_durchfuehren,status=status,time_difference=td,time_unit=td_unit,frac=frac,automation_portion=automation_portion)\n",
        "df_ablehnung_durchfuehren = df_ablehnung_durchfuehren.reset_index(drop=True)\n",
        "\n",
        "df_ablehnung_durchfuehren = df_scoring_durchfuehren.append(df_ablehnung_durchfuehren)\n",
        "df_ablehnung_durchfuehren = df_ablehnung_durchfuehren.reset_index(drop=True)\n",
        "\n",
        "# from Protokollierung to Kunde über Ablehnung informieren\n",
        "df_protokollierung2 = df_ablehnung_durchfuehren[(df_ablehnung_durchfuehren['activity']=='Protokollierung_2')]\n",
        "status = ['Kunde_über_Ablehnung_informieren']\n",
        "td = [1]\n",
        "td_unit = ['days']\n",
        "frac=[1.0]\n",
        "automation_portion=[0.3]\n",
        "df_protokollierung2 = progress_propagator(df_protokollierung2,status=status,time_difference=td,time_unit=td_unit,frac=frac,automation_portion=automation_portion)\n",
        "df_protokollierung2 = df_protokollierung2.reset_index(drop=True)\n",
        "\n",
        "df_protokollierung2 = df_ablehnung_durchfuehren.append(df_protokollierung2)\n",
        "df_protokollierung2 = df_protokollierung2.reset_index(drop=True)"
      ],
      "execution_count": 28,
      "outputs": [
        {
          "output_type": "stream",
          "text": [
            "/usr/local/lib/python3.6/dist-packages/ipykernel_launcher.py:36: SettingWithCopyWarning: \n",
            "A value is trying to be set on a copy of a slice from a DataFrame\n",
            "\n",
            "See the caveats in the documentation: http://pandas.pydata.org/pandas-docs/stable/indexing.html#indexing-view-versus-copy\n"
          ],
          "name": "stderr"
        }
      ]
    },
    {
      "metadata": {
        "id": "OnUtmVYD2tqj",
        "colab_type": "code",
        "outputId": "24d2233d-7fae-4174-a9f0-b1b1736ed2f0",
        "colab": {
          "base_uri": "https://localhost:8080/",
          "height": 84
        }
      },
      "cell_type": "code",
      "source": [
        "# from Genehmigung durchführen to Protokollierung\n",
        "df_genehmigung_durchfuehren = df_protokollierung2[(df_protokollierung2['activity']=='Genehmigung_durchführen')]\n",
        "status = ['Protokollierung']\n",
        "td = [7]\n",
        "td_unit = ['mins']\n",
        "frac=[1.0]\n",
        "automation_portion=[0.4]\n",
        "df_genehmigung_durchfuehren = progress_propagator(df_genehmigung_durchfuehren,status=status,time_difference=td,time_unit=td_unit,frac=frac,automation_portion=automation_portion)\n",
        "df_genehmigung_durchfuehren = df_genehmigung_durchfuehren.reset_index(drop=True)\n",
        "\n",
        "df_genehmigung_durchfuehren = df_protokollierung2.append(df_genehmigung_durchfuehren)\n",
        "df_genehmigung_durchfuehren = df_genehmigung_durchfuehren.reset_index(drop=True)\n",
        "\n",
        "# from Protokollierung to Vertrag erstellen und aushändigen\n",
        "df_protokollierung = df_genehmigung_durchfuehren[(df_genehmigung_durchfuehren['activity']=='Protokollierung')]\n",
        "status = ['Vertrag_erstellen_und_aushändigen']\n",
        "td = [30]\n",
        "td_unit = ['mins']\n",
        "frac=[1.0]\n",
        "automation_portion=[0.5]\n",
        "df_protokollierung = progress_propagator(df_protokollierung,status=status,time_difference=td,time_unit=td_unit,frac=frac,automation_portion=automation_portion)\n",
        "df_protokollierung = df_protokollierung.reset_index(drop=True)\n",
        "\n",
        "df_protokollierung = df_genehmigung_durchfuehren.append(df_protokollierung)\n",
        "df_protokollierung = df_protokollierung.reset_index(drop=True)\n",
        "\n",
        "# from Vertrag erstellen und aushändigen to Vertrag und Unterschrift prüfen\n",
        "df_veuah = df_protokollierung[(df_protokollierung['activity']=='Vertrag_erstellen_und_aushändigen')]\n",
        "status = ['Vertrag_und_Unterschrift_prüfen']\n",
        "td = [12]\n",
        "td_unit = ['mins']\n",
        "frac=[1.0]\n",
        "automation_portion=[0.5]\n",
        "df_veuah = progress_propagator(df_veuah,status=status,time_difference=td,time_unit=td_unit,frac=frac,automation_portion=automation_portion)\n",
        "df_veuah = df_veuah.reset_index(drop=True)\n",
        "\n",
        "df_veuah = df_protokollierung.append(df_veuah)\n",
        "df_veuah = df_veuah.reset_index(drop=True)\n",
        "\n",
        "# from Vertrag und Unterschrift prüfen to Kreditauszahlung prüfen and Vertrag erstellen und aushändigen\n",
        "df_vuup = df_veuah[(df_veuah['activity']=='Vertrag_und_Unterschrift_prüfen')]\n",
        "status = ['Vertrag_erstellen_und_aushändigen','Kreditauszahlung_prüfen']\n",
        "td = [1,5]\n",
        "td_unit = ['days','mins']\n",
        "frac=[0.1,0.9]\n",
        "automation_portion=[0.0,0.0]\n",
        "df_vuup = progress_propagator(df_vuup,status=status,time_difference=td,time_unit=td_unit,frac=frac,automation_portion=automation_portion)\n",
        "df_vuup = df_vuup.reset_index(drop=True)\n",
        "\n",
        "# Vertrag erstellen und aushädigen to Vertrag und Unterschrift Prüfen (loop)\n",
        "df_veuah_2 = df_vuup[(df_vuup['activity']=='Vertrag_erstellen_und_aushändigen')]\n",
        "status = ['Vertrag_und_Unterschrift_prüfen']\n",
        "td = [12]\n",
        "td_unit = ['mins']\n",
        "frac=[1.0]\n",
        "automation_portion=[0.0]\n",
        "df_veuah_2 = progress_propagator(df_veuah_2,status=status,time_difference=td,time_unit=td_unit,frac=frac,automation_portion=automation_portion)\n",
        "df_veuah_2 = df_veuah_2.reset_index(drop=True)\n",
        "\n",
        "# from Vertrag und Unterschrift Prüfen to Kreditauszahlung prüfen\n",
        "df_vuup_2 = df_veuah_2[(df_veuah_2['activity']=='Vertrag_und_Unterschrift_prüfen')]\n",
        "status = ['Kreditauszahlung_prüfen']\n",
        "td = [12]\n",
        "td_unit = ['mins']\n",
        "frac=[1.0]\n",
        "automation_portion=[0.0]\n",
        "df_vuup_2 = progress_propagator(df_vuup_2,status=status,time_difference=td,time_unit=td_unit,frac=frac,automation_portion=automation_portion)\n",
        "df_vuup_2 = df_vuup_2.reset_index(drop=True)\n",
        "\n",
        "df_vuup_2 = df_veuah.append([df_vuup,df_veuah_2,df_vuup_2])\n",
        "df_vuup_2 = df_vuup_2.reset_index(drop=True)\n",
        "\n",
        "# from Kreditauszahlung prüfen to Kreditauszahlung durchführen\n",
        "df_kadf = df_vuup_2[(df_vuup_2['activity']=='Kreditauszahlung_prüfen')]\n",
        "status = ['Kreditauszahlung_durchführen']\n",
        "td = [12]\n",
        "td_unit = ['mins']\n",
        "frac=[1.0]\n",
        "automation_portion=[0.0]\n",
        "df_kadf = progress_propagator(df_kadf,status=status,time_difference=td,time_unit=td_unit,frac=frac,automation_portion=automation_portion)\n",
        "df_kadf = df_kadf.reset_index(drop=True)\n",
        "\n",
        "df_kadf = df_vuup_2.append(df_kadf)\n",
        "df_kadf = df_kadf.reset_index(drop=True)\n"
      ],
      "execution_count": 29,
      "outputs": [
        {
          "output_type": "stream",
          "text": [
            "/usr/local/lib/python3.6/dist-packages/ipykernel_launcher.py:36: SettingWithCopyWarning: \n",
            "A value is trying to be set on a copy of a slice from a DataFrame\n",
            "\n",
            "See the caveats in the documentation: http://pandas.pydata.org/pandas-docs/stable/indexing.html#indexing-view-versus-copy\n"
          ],
          "name": "stderr"
        }
      ]
    },
    {
      "metadata": {
        "id": "tZifmclfCLkA",
        "colab_type": "code",
        "outputId": "31618ba2-5382-43ea-ec6a-8d510f06ed50",
        "colab": {
          "base_uri": "https://localhost:8080/",
          "height": 353
        }
      },
      "cell_type": "code",
      "source": [
        "print(df_kadf.head())\n",
        "#print(df_unterlagen_auf_vollstaendigkeit_pruefen.tail())"
      ],
      "execution_count": 30,
      "outputs": [
        {
          "output_type": "stream",
          "text": [
            "      Region                activity kredit_id  laufzeit         rate  \\\n",
            "0     Berlin  kreditantrag_erstellen         0      38.0  1057.894737   \n",
            "1     Berlin  kreditantrag_erstellen         1      35.0   679.571429   \n",
            "2  Frankfurt  kreditantrag_erstellen         2      40.0   778.875000   \n",
            "3     Berlin  kreditantrag_erstellen         3      31.0   432.258065   \n",
            "4     Berlin  kreditantrag_erstellen         4      28.0   741.785714   \n",
            "\n",
            "            timestamp  wunschkredithoehe  tatsächliche_kredithöhe  \\\n",
            "0 2018-08-31 13:01:00            60000.0                      NaN   \n",
            "1 2018-01-19 09:02:00            35500.0                      NaN   \n",
            "2 2018-04-08 14:17:00            46500.0                      NaN   \n",
            "3 2018-09-10 12:50:00            20000.0                      NaN   \n",
            "4 2018-06-12 10:30:00            31000.0                      NaN   \n",
            "\n",
            "   Schufascore  Ratingklasse loop mitarbeiter  \n",
            "0          NaN           NaN    0        otto  \n",
            "1          NaN           NaN    0        otto  \n",
            "2          NaN           NaN    0        otto  \n",
            "3          NaN           NaN    0        otto  \n",
            "4          NaN           NaN    0        otto  \n"
          ],
          "name": "stdout"
        }
      ]
    },
    {
      "metadata": {
        "id": "eaXGG9XECdlP",
        "colab_type": "code",
        "outputId": "01dfdf39-3d2e-4aa1-98d3-54c3510f67cd",
        "colab": {
          "base_uri": "https://localhost:8080/",
          "height": 34
        }
      },
      "cell_type": "code",
      "source": [
        "print (datetime.now()-start)"
      ],
      "execution_count": 31,
      "outputs": [
        {
          "output_type": "stream",
          "text": [
            "0:00:29.061951\n"
          ],
          "name": "stdout"
        }
      ]
    },
    {
      "metadata": {
        "id": "npeauTsjinE_",
        "colab_type": "code",
        "outputId": "40838e54-a617-421e-e292-05b1369ec2f5",
        "colab": {
          "base_uri": "https://localhost:8080/",
          "height": 195
        }
      },
      "cell_type": "code",
      "source": [
        "df_kadf.head()"
      ],
      "execution_count": 32,
      "outputs": [
        {
          "output_type": "execute_result",
          "data": {
            "text/html": [
              "<div>\n",
              "<style scoped>\n",
              "    .dataframe tbody tr th:only-of-type {\n",
              "        vertical-align: middle;\n",
              "    }\n",
              "\n",
              "    .dataframe tbody tr th {\n",
              "        vertical-align: top;\n",
              "    }\n",
              "\n",
              "    .dataframe thead th {\n",
              "        text-align: right;\n",
              "    }\n",
              "</style>\n",
              "<table border=\"1\" class=\"dataframe\">\n",
              "  <thead>\n",
              "    <tr style=\"text-align: right;\">\n",
              "      <th></th>\n",
              "      <th>Region</th>\n",
              "      <th>activity</th>\n",
              "      <th>kredit_id</th>\n",
              "      <th>laufzeit</th>\n",
              "      <th>rate</th>\n",
              "      <th>timestamp</th>\n",
              "      <th>wunschkredithoehe</th>\n",
              "      <th>tatsächliche_kredithöhe</th>\n",
              "      <th>Schufascore</th>\n",
              "      <th>Ratingklasse</th>\n",
              "      <th>loop</th>\n",
              "      <th>mitarbeiter</th>\n",
              "    </tr>\n",
              "  </thead>\n",
              "  <tbody>\n",
              "    <tr>\n",
              "      <th>0</th>\n",
              "      <td>Berlin</td>\n",
              "      <td>kreditantrag_erstellen</td>\n",
              "      <td>0</td>\n",
              "      <td>38.0</td>\n",
              "      <td>1057.894737</td>\n",
              "      <td>2018-08-31 13:01:00</td>\n",
              "      <td>60000.0</td>\n",
              "      <td>NaN</td>\n",
              "      <td>NaN</td>\n",
              "      <td>NaN</td>\n",
              "      <td>0</td>\n",
              "      <td>otto</td>\n",
              "    </tr>\n",
              "    <tr>\n",
              "      <th>1</th>\n",
              "      <td>Berlin</td>\n",
              "      <td>kreditantrag_erstellen</td>\n",
              "      <td>1</td>\n",
              "      <td>35.0</td>\n",
              "      <td>679.571429</td>\n",
              "      <td>2018-01-19 09:02:00</td>\n",
              "      <td>35500.0</td>\n",
              "      <td>NaN</td>\n",
              "      <td>NaN</td>\n",
              "      <td>NaN</td>\n",
              "      <td>0</td>\n",
              "      <td>otto</td>\n",
              "    </tr>\n",
              "    <tr>\n",
              "      <th>2</th>\n",
              "      <td>Frankfurt</td>\n",
              "      <td>kreditantrag_erstellen</td>\n",
              "      <td>2</td>\n",
              "      <td>40.0</td>\n",
              "      <td>778.875000</td>\n",
              "      <td>2018-04-08 14:17:00</td>\n",
              "      <td>46500.0</td>\n",
              "      <td>NaN</td>\n",
              "      <td>NaN</td>\n",
              "      <td>NaN</td>\n",
              "      <td>0</td>\n",
              "      <td>otto</td>\n",
              "    </tr>\n",
              "    <tr>\n",
              "      <th>3</th>\n",
              "      <td>Berlin</td>\n",
              "      <td>kreditantrag_erstellen</td>\n",
              "      <td>3</td>\n",
              "      <td>31.0</td>\n",
              "      <td>432.258065</td>\n",
              "      <td>2018-09-10 12:50:00</td>\n",
              "      <td>20000.0</td>\n",
              "      <td>NaN</td>\n",
              "      <td>NaN</td>\n",
              "      <td>NaN</td>\n",
              "      <td>0</td>\n",
              "      <td>otto</td>\n",
              "    </tr>\n",
              "    <tr>\n",
              "      <th>4</th>\n",
              "      <td>Berlin</td>\n",
              "      <td>kreditantrag_erstellen</td>\n",
              "      <td>4</td>\n",
              "      <td>28.0</td>\n",
              "      <td>741.785714</td>\n",
              "      <td>2018-06-12 10:30:00</td>\n",
              "      <td>31000.0</td>\n",
              "      <td>NaN</td>\n",
              "      <td>NaN</td>\n",
              "      <td>NaN</td>\n",
              "      <td>0</td>\n",
              "      <td>otto</td>\n",
              "    </tr>\n",
              "  </tbody>\n",
              "</table>\n",
              "</div>"
            ],
            "text/plain": [
              "      Region                activity kredit_id  laufzeit         rate  \\\n",
              "0     Berlin  kreditantrag_erstellen         0      38.0  1057.894737   \n",
              "1     Berlin  kreditantrag_erstellen         1      35.0   679.571429   \n",
              "2  Frankfurt  kreditantrag_erstellen         2      40.0   778.875000   \n",
              "3     Berlin  kreditantrag_erstellen         3      31.0   432.258065   \n",
              "4     Berlin  kreditantrag_erstellen         4      28.0   741.785714   \n",
              "\n",
              "            timestamp  wunschkredithoehe  tatsächliche_kredithöhe  \\\n",
              "0 2018-08-31 13:01:00            60000.0                      NaN   \n",
              "1 2018-01-19 09:02:00            35500.0                      NaN   \n",
              "2 2018-04-08 14:17:00            46500.0                      NaN   \n",
              "3 2018-09-10 12:50:00            20000.0                      NaN   \n",
              "4 2018-06-12 10:30:00            31000.0                      NaN   \n",
              "\n",
              "   Schufascore  Ratingklasse loop mitarbeiter  \n",
              "0          NaN           NaN    0        otto  \n",
              "1          NaN           NaN    0        otto  \n",
              "2          NaN           NaN    0        otto  \n",
              "3          NaN           NaN    0        otto  \n",
              "4          NaN           NaN    0        otto  "
            ]
          },
          "metadata": {
            "tags": []
          },
          "execution_count": 32
        }
      ]
    },
    {
      "metadata": {
        "id": "DXW0vhjAE3hm",
        "colab_type": "code",
        "outputId": "a5e021f0-320e-4ddd-efa4-8691d1451d33",
        "colab": {
          "base_uri": "https://localhost:8080/",
          "height": 504
        }
      },
      "cell_type": "code",
      "source": [
        "df_test = df_kadf.ix[0:500000]\n",
        "print(df_test.tail())\n",
        "print(df_kadf.shape)"
      ],
      "execution_count": 33,
      "outputs": [
        {
          "output_type": "stream",
          "text": [
            "           Region                     activity kredit_id  laufzeit  \\\n",
            "499996  Frankfurt  Bonitätsprüfung_durchführen     24866      41.0   \n",
            "499997    Hamburg  Bonitätsprüfung_durchführen     52405      41.0   \n",
            "499998    Hamburg  Bonitätsprüfung_durchführen      7037      39.0   \n",
            "499999     Berlin  Bonitätsprüfung_durchführen    117516      33.0   \n",
            "500000     Berlin  Bonitätsprüfung_durchführen     71037      41.0   \n",
            "\n",
            "              rate           timestamp  wunschkredithoehe  \\\n",
            "499996  768.048780 2018-07-02 13:19:00            47000.0   \n",
            "499997  326.829268 2018-07-17 11:17:00            20000.0   \n",
            "499998  532.564103 2018-05-17 16:28:00            31000.0   \n",
            "499999  903.484848 2018-09-28 15:48:00            44500.0   \n",
            "500000  302.317073 2018-06-04 16:58:00            18500.0   \n",
            "\n",
            "        tatsächliche_kredithöhe  Schufascore  Ratingklasse loop mitarbeiter  \n",
            "499996                      NaN          NaN           NaN    0        otto  \n",
            "499997                      NaN          NaN           NaN    0        robo  \n",
            "499998                      NaN          NaN           NaN    0        otto  \n",
            "499999                      NaN          NaN           NaN    0        robo  \n",
            "500000                      NaN          NaN           NaN    0        robo  \n",
            "(1378440, 12)\n"
          ],
          "name": "stdout"
        },
        {
          "output_type": "stream",
          "text": [
            "/usr/local/lib/python3.6/dist-packages/ipykernel_launcher.py:1: DeprecationWarning: \n",
            ".ix is deprecated. Please use\n",
            ".loc for label based indexing or\n",
            ".iloc for positional indexing\n",
            "\n",
            "See the documentation here:\n",
            "http://pandas.pydata.org/pandas-docs/stable/indexing.html#ix-indexer-is-deprecated\n",
            "  \"\"\"Entry point for launching an IPython kernel.\n"
          ],
          "name": "stderr"
        }
      ]
    },
    {
      "metadata": {
        "id": "SJCeHYkDvGmY",
        "colab_type": "code",
        "outputId": "c5b1a894-3184-4544-b033-a189f4e936d6",
        "colab": {
          "base_uri": "https://localhost:8080/",
          "height": 118
        }
      },
      "cell_type": "code",
      "source": [
        "df_bonitaetpruefung.activity.unique()"
      ],
      "execution_count": 34,
      "outputs": [
        {
          "output_type": "execute_result",
          "data": {
            "text/plain": [
              "array(['kreditantrag_erstellen', 'Kreditanträge_verteilen',\n",
              "       'Unterlagen_auf_Vollständigkeit_Prüfen', 'Kreditantrag_prüfen',\n",
              "       'Unterlagen_nachfordern', 'Angaben_korrigieren',\n",
              "       'Bonitätsprüfung_durchführen', 'Unterlagen_nachfordern_2',\n",
              "       'zweiten_Kreditnehmer_aufnehmen', 'Angaben_korrigieren_2',\n",
              "       'Schufa_abfragen'], dtype=object)"
            ]
          },
          "metadata": {
            "tags": []
          },
          "execution_count": 34
        }
      ]
    },
    {
      "metadata": {
        "id": "qvDt2NbxPPsN",
        "colab_type": "code",
        "colab": {}
      },
      "cell_type": "code",
      "source": [
        "\n",
        "df_kadf[500001:].to_csv('process_mining_spagetti.csv',index=False)\n",
        "#df_kadf.to_csv('process_mining_spagetti.csv',index=False,columns=['Region','activity','kredit_id','timestamp','rate'])\n",
        "files.download('process_mining_spagetti.csv')"
      ],
      "execution_count": 0,
      "outputs": []
    },
    {
      "metadata": {
        "id": "oi314-09WHRL",
        "colab_type": "code",
        "colab": {}
      },
      "cell_type": "code",
      "source": [
        ""
      ],
      "execution_count": 0,
      "outputs": []
    }
  ]
}